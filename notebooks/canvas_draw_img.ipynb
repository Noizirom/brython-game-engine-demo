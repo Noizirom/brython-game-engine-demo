{
 "cells": [
  {
   "cell_type": "code",
   "execution_count": 4,
   "metadata": {
    "hide_input": false
   },
   "outputs": [
    {
     "data": {
      "application/javascript": [
       "\n",
       "    require(\n",
       "        [\n",
       "            \"/files/brython-3.6/brython.js\"\n",
       "        ], \n",
       "        function() {\n",
       "            console.log(\"Loaded js code from /files/brython-3.6/brython.js!\");\n",
       "        }\n",
       "    );    \n",
       "    "
      ],
      "text/plain": [
       "<IPython.core.display.Javascript object>"
      ]
     },
     "metadata": {},
     "output_type": "display_data"
    },
    {
     "data": {
      "application/javascript": [
       "\n",
       "    require(\n",
       "        [\n",
       "            \"/files/brython-3.6/brython_stdlib.js\"\n",
       "        ], \n",
       "        function() {\n",
       "            console.log(\"Loaded js code from /files/brython-3.6/brython_stdlib.js!\");\n",
       "        }\n",
       "    );    \n",
       "    "
      ],
      "text/plain": [
       "<IPython.core.display.Javascript object>"
      ]
     },
     "metadata": {},
     "output_type": "display_data"
    },
    {
     "name": "stdout",
     "output_type": "stream",
     "text": [
      "The brythonmagic extension is already loaded. To reload it, use:\n",
      "  %reload_ext brythonmagic\n"
     ]
    }
   ],
   "source": [
    "from brythonmagic import load_js_lib as js;\n",
    "js(\"/files/brython-3.6/brython.js\");js(\"/files/brython-3.6/brython_stdlib.js\")\n",
    "%load_ext brythonmagic\n",
    "html_init = '<canvas id=\"c01\" width=\"600\" height=\"300\"></canvas>'"
   ]
  },
  {
   "cell_type": "code",
   "execution_count": 7,
   "metadata": {
    "hide_input": true
   },
   "outputs": [
    {
     "data": {
      "text/html": [
       "  <script id=\"138446\" type=\"text/python\">\n",
       "from browser import document, html\n",
       "ctx = document['c01'].getContext(\"2d\")\n",
       "\n",
       "grass_img = html.IMG(src='/files/notebooks/media/grass.png')\n",
       "ctx.drawImage(grass_img, 0, 0)\n",
       "ctx.drawImage(grass_img, 128, 64)\n",
       "ctx.drawImage(grass_img, 256, 0)\n",
       "ctx.drawImage(grass_img, 128, -64)\n",
       "\n",
       "  </script>\n",
       "  <div id=\"brython_container_138446\"><canvas id=\"c01\" width=\"600\" height=\"300\"></canvas></div>\n",
       "  <script type=\"text/javascript\">brython({debug:1, static_stdlib_import: false, ipy_id: [\"138446\"]});</script>\n"
      ],
      "text/plain": [
       "<IPython.core.display.HTML object>"
      ]
     },
     "metadata": {},
     "output_type": "display_data"
    }
   ],
   "source": [
    "%%brython -h html_init\n",
    "from browser import document, html\n",
    "ctx = document['c01'].getContext(\"2d\")\n",
    "\n",
    "grass_img = html.IMG(src='/files/notebooks/media/grass.png')\n",
    "ctx.drawImage(grass_img, 0, 0)\n",
    "ctx.drawImage(grass_img, 128, 64)\n",
    "ctx.drawImage(grass_img, 256, 0)\n",
    "ctx.drawImage(grass_img, 128, -64)"
   ]
  },
  {
   "cell_type": "code",
   "execution_count": null,
   "metadata": {},
   "outputs": [],
   "source": []
  }
 ],
 "metadata": {
  "hide_input": false,
  "kernelspec": {
   "display_name": "Python 3",
   "language": "python",
   "name": "python3"
  },
  "language_info": {
   "codemirror_mode": {
    "name": "ipython",
    "version": 3
   },
   "file_extension": ".py",
   "mimetype": "text/x-python",
   "name": "python",
   "nbconvert_exporter": "python",
   "pygments_lexer": "ipython3",
   "version": "3.6.6"
  }
 },
 "nbformat": 4,
 "nbformat_minor": 2
}

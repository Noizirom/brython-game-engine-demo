{
 "cells": [
  {
   "cell_type": "code",
   "execution_count": 1,
   "metadata": {},
   "outputs": [
    {
     "data": {
      "application/javascript": [
       "\n",
       "    require(\n",
       "        [\n",
       "            \"http://localhost:8888/files/brython-3.6.2/www/src/brython.js\"\n",
       "        ], \n",
       "        function() {\n",
       "            console.log(\"Loaded js code from http://localhost:8888/files/brython-3.6.2/www/src/brython.js!\");\n",
       "        }\n",
       "    );    \n",
       "    "
      ],
      "text/plain": [
       "<IPython.core.display.Javascript object>"
      ]
     },
     "metadata": {},
     "output_type": "display_data"
    }
   ],
   "source": [
    "from brythonmagic import load_js_lib\n",
    "load_js_lib(\"http://localhost:8888/files/brython-3.6.2/www/src/brython.js\")\n",
    "%load_ext brythonmagic"
   ]
  },
  {
   "cell_type": "code",
   "execution_count": 2,
   "metadata": {},
   "outputs": [
    {
     "data": {
      "text/html": [
       "  <script id=\"840595\" type=\"text/python\">\n",
       "# First of all, the import of some libraries\n",
       "from browser import document, html\n",
       "\n",
       "# All the elements will be inserted in the div with the \"zone\" id\n",
       "zone = document['zone']\n",
       "\n",
       "# We create a new div element\n",
       "newdiv = html.DIV(Id = \"new-div\")\n",
       "# Now we add some style\n",
       "newdiv.style = {\"padding\": \"5px\", \n",
       "           \"backgroundColor\": \"#ADD8E6\"}\n",
       "\n",
       "# We create a new link and add the link to a string\n",
       "blink = html.A('brython',href=\"http://brython.info\")\n",
       "text = \"Brython is really cool, look at \"+ blink + \" for more\"\n",
       "\n",
       "# Now we add the text to the div with id=\"new-div\"\n",
       "newdiv <= html.DIV(text)\n",
       "\n",
       "# Finally, we add the newdiv to the outer div with id=\"zone\"\n",
       "zone <= newdiv\n",
       "\n",
       "  </script>\n",
       "  <div id=\"zone\"></div>\n",
       "  <script type=\"text/javascript\">brython({debug:1, static_stdlib_import: false, ipy_id: [\"840595\"]});</script>\n"
      ],
      "text/plain": [
       "<IPython.core.display.HTML object>"
      ]
     },
     "metadata": {},
     "output_type": "display_data"
    }
   ],
   "source": [
    "%%brython -c zone\n",
    "# First of all, the import of some libraries\n",
    "from browser import document, html\n",
    "\n",
    "# All the elements will be inserted in the div with the \"zone\" id\n",
    "zone = document['zone']\n",
    "\n",
    "# We create a new div element\n",
    "newdiv = html.DIV(Id = \"new-div\")\n",
    "# Now we add some style\n",
    "newdiv.style = {\"padding\": \"5px\", \n",
    "           \"backgroundColor\": \"#ADD8E6\"}\n",
    "\n",
    "# We create a new link and add the link to a string\n",
    "blink = html.A('brython',href=\"http://brython.info\")\n",
    "text = \"Brython is really cool, look at \"+ blink + \" for more\"\n",
    "\n",
    "# Now we add the text to the div with id=\"new-div\"\n",
    "newdiv <= html.DIV(text)\n",
    "\n",
    "# Finally, we add the newdiv to the outer div with id=\"zone\"\n",
    "zone <= newdiv"
   ]
  }
 ],
 "metadata": {
  "kernelspec": {
   "display_name": "Python 3",
   "language": "python",
   "name": "python3"
  },
  "language_info": {
   "codemirror_mode": {
    "name": "ipython",
    "version": 3
   },
   "file_extension": ".py",
   "mimetype": "text/x-python",
   "name": "python",
   "nbconvert_exporter": "python",
   "pygments_lexer": "ipython3",
   "version": "3.6.6"
  },
  "widgets": {
   "application/vnd.jupyter.widget-state+json": {
    "state": {},
    "version_major": 2,
    "version_minor": 0
   }
  }
 },
 "nbformat": 4,
 "nbformat_minor": 2
}

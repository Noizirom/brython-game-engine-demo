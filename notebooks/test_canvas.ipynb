{
 "cells": [
  {
   "cell_type": "code",
   "execution_count": 1,
   "metadata": {
    "hide_input": false
   },
   "outputs": [
    {
     "data": {
      "application/javascript": [
       "\n",
       "    require(\n",
       "        [\n",
       "            \"/files/brython-3.6/brython.js\"\n",
       "        ], \n",
       "        function() {\n",
       "            console.log(\"Loaded js code from /files/brython-3.6/brython.js!\");\n",
       "        }\n",
       "    );    \n",
       "    "
      ],
      "text/plain": [
       "<IPython.core.display.Javascript object>"
      ]
     },
     "metadata": {},
     "output_type": "display_data"
    },
    {
     "data": {
      "application/javascript": [
       "\n",
       "    require(\n",
       "        [\n",
       "            \"/files/brython-3.6/brython_stdlib.js\"\n",
       "        ], \n",
       "        function() {\n",
       "            console.log(\"Loaded js code from /files/brython-3.6/brython_stdlib.js!\");\n",
       "        }\n",
       "    );    \n",
       "    "
      ],
      "text/plain": [
       "<IPython.core.display.Javascript object>"
      ]
     },
     "metadata": {},
     "output_type": "display_data"
    }
   ],
   "source": [
    "from brythonmagic import load_js_lib\n",
    "load_js_lib(\"/files/brython-3.6/brython.js\")\n",
    "load_js_lib(\"/files/brython-3.6/brython_stdlib.js\")\n",
    "%load_ext brythonmagic"
   ]
  },
  {
   "cell_type": "code",
   "execution_count": 2,
   "metadata": {},
   "outputs": [],
   "source": [
    "html_init = '<canvas id=\"c01\" width=\"800\" height=\"400\"></canvas>'"
   ]
  },
  {
   "cell_type": "code",
   "execution_count": 3,
   "metadata": {},
   "outputs": [
    {
     "data": {
      "text/html": [
       "  <script id=\"524099\" type=\"text/python\">\n",
       "from browser import document, html\n",
       "canvas = document['c01']\n",
       "ctx = canvas.getContext(\"2d\")\n",
       "ctx.beginPath()\n",
       "ctx.rect(50, 50, 700, 300)\n",
       "ctx.stroke()\n",
       "\n",
       "  </script>\n",
       "  <div id=\"brython_container_524099\"><canvas id=\"c01\" width=\"800\" height=\"400\"></canvas></div>\n",
       "  <script type=\"text/javascript\">brython({debug:1, static_stdlib_import: false, ipy_id: [\"524099\"]});</script>\n"
      ],
      "text/plain": [
       "<IPython.core.display.HTML object>"
      ]
     },
     "metadata": {},
     "output_type": "display_data"
    }
   ],
   "source": [
    "%%brython -h html_init\n",
    "from browser import document, html\n",
    "canvas = document['c01']\n",
    "ctx = canvas.getContext(\"2d\")\n",
    "ctx.beginPath()\n",
    "ctx.rect(50, 50, 700, 300)\n",
    "ctx.stroke()"
   ]
  }
 ],
 "metadata": {
  "hide_input": false,
  "kernelspec": {
   "display_name": "Python 3",
   "language": "python",
   "name": "python3"
  },
  "language_info": {
   "codemirror_mode": {
    "name": "ipython",
    "version": 3
   },
   "file_extension": ".py",
   "mimetype": "text/x-python",
   "name": "python",
   "nbconvert_exporter": "python",
   "pygments_lexer": "ipython3",
   "version": "3.6.6"
  }
 },
 "nbformat": 4,
 "nbformat_minor": 2
}

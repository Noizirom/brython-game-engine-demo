{
 "cells": [
  {
   "cell_type": "code",
   "execution_count": 1,
   "metadata": {},
   "outputs": [
    {
     "data": {
      "application/javascript": [
       "\n",
       "    require(\n",
       "        [\n",
       "            \"/files/brython-3.6/brython.js\"\n",
       "        ], \n",
       "        function() {\n",
       "            console.log(\"Loaded js code from /files/brython-3.6/brython.js!\");\n",
       "        }\n",
       "    );    \n",
       "    "
      ],
      "text/plain": [
       "<IPython.core.display.Javascript object>"
      ]
     },
     "metadata": {},
     "output_type": "display_data"
    },
    {
     "data": {
      "application/javascript": [
       "\n",
       "    require(\n",
       "        [\n",
       "            \"/files/brython-3.6/brython_stdlib.js\"\n",
       "        ], \n",
       "        function() {\n",
       "            console.log(\"Loaded js code from /files/brython-3.6/brython_stdlib.js!\");\n",
       "        }\n",
       "    );    \n",
       "    "
      ],
      "text/plain": [
       "<IPython.core.display.Javascript object>"
      ]
     },
     "metadata": {},
     "output_type": "display_data"
    }
   ],
   "source": [
    "from brythonmagic import load_js_lib\n",
    "load_js_lib(\"/files/brython-3.6/brython.js\")\n",
    "load_js_lib(\"/files/brython-3.6/brython_stdlib.js\")\n",
    "%load_ext brythonmagic"
   ]
  },
  {
   "cell_type": "code",
   "execution_count": 2,
   "metadata": {},
   "outputs": [
    {
     "data": {
      "text/html": [
       "  <script id=\"803194\" type=\"text/python\">\n",
       "from browser import document as doc, html\n",
       "import time\n",
       "\n",
       "def sleep(timeout = 1.0):\n",
       "    target = time.time() + timeout\n",
       "    now = time.time()\n",
       "    while now < target:\n",
       "        now = time.time()\n",
       "\n",
       "out = doc['out']\n",
       "for c in range(10):\n",
       "    out <= html.DIV('{}'.format(time.time()))\n",
       "    sleep(0.1)\n",
       "\n",
       "  </script>\n",
       "  <div id=\"out\"></div>\n",
       "  <script type=\"text/javascript\">brython({debug:1, static_stdlib_import: false, ipy_id: [\"803194\"]});</script>\n"
      ],
      "text/plain": [
       "<IPython.core.display.HTML object>"
      ]
     },
     "metadata": {},
     "output_type": "display_data"
    }
   ],
   "source": [
    "%%brython -c out\n",
    "from browser import document as doc, html\n",
    "import time\n",
    "\n",
    "def sleep(timeout = 1.0):\n",
    "    target = time.time() + timeout\n",
    "    now = time.time()\n",
    "    while now < target:\n",
    "        now = time.time()\n",
    "\n",
    "out = doc['out']\n",
    "for c in range(10):\n",
    "    out <= html.DIV('{}'.format(time.time()))\n",
    "    sleep(0.1)"
   ]
  }
 ],
 "metadata": {
  "kernelspec": {
   "display_name": "Python 3",
   "language": "python",
   "name": "python3"
  },
  "language_info": {
   "codemirror_mode": {
    "name": "ipython",
    "version": 3
   },
   "file_extension": ".py",
   "mimetype": "text/x-python",
   "name": "python",
   "nbconvert_exporter": "python",
   "pygments_lexer": "ipython3",
   "version": "3.6.6"
  },
  "widgets": {
   "application/vnd.jupyter.widget-state+json": {
    "state": {},
    "version_major": 2,
    "version_minor": 0
   }
  }
 },
 "nbformat": 4,
 "nbformat_minor": 2
}
